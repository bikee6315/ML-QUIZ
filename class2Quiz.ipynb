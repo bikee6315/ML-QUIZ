{
 "cells": [
  {
   "cell_type": "markdown",
   "metadata": {},
   "source": [
    "## 1. Solution"
   ]
  },
  {
   "cell_type": "code",
   "execution_count": null,
   "metadata": {
    "collapsed": true
   },
   "outputs": [],
   "source": [
    "a=[4,3\n",
    "   6,9]\n",
    "b=[-2 9\n",
    "   -5 2]\n",
    "\n",
    "a-b=[6 -6\n",
    "     11 7]"
   ]
  },
  {
   "cell_type": "markdown",
   "metadata": {},
   "source": [
    "## 2. Solution"
   ]
  },
  {
   "cell_type": "code",
   "execution_count": null,
   "metadata": {
    "collapsed": true
   },
   "outputs": [],
   "source": [
    "x=[2\n",
    "   7\n",
    "   4\n",
    "   1]\n",
    "\n",
    "(1/2)x=[1\n",
    "        7/2\n",
    "        2\n",
    "        1/2]"
   ]
  },
  {
   "cell_type": "markdown",
   "metadata": {},
   "source": [
    "## 3. Solution"
   ]
  },
  {
   "cell_type": "code",
   "execution_count": null,
   "metadata": {
    "collapsed": true
   },
   "outputs": [],
   "source": [
    "u=[8\n",
    "   1\n",
    "   4]\n",
    "\n",
    "Transpose Of u=[8 1 4]"
   ]
  },
  {
   "cell_type": "markdown",
   "metadata": {},
   "source": [
    "## 4. Solution"
   ]
  },
  {
   "cell_type": "code",
   "execution_count": null,
   "metadata": {
    "collapsed": true
   },
   "outputs": [],
   "source": [
    "u=[1\n",
    "   3\n",
    "  -1]\n",
    "\n",
    "v=[2\n",
    "   2\n",
    "   4]\n",
    "\n",
    "Transpose of u (ut)=[1 3 -1]\n",
    "\n",
    "(ut)v=[1 3 -1][2\n",
    "               2\n",
    "               4]\n",
    "\n",
    "     =[2+6-4] \n",
    "     =4"
   ]
  },
  {
   "cell_type": "markdown",
   "metadata": {},
   "source": [
    "## 5. Solution"
   ]
  },
  {
   "cell_type": "code",
   "execution_count": null,
   "metadata": {
    "collapsed": true
   },
   "outputs": [],
   "source": [
    "b. If B is a 3X3 identity matrix, then A*B = B*A"
   ]
  }
 ],
 "metadata": {
  "kernelspec": {
   "display_name": "Python 2",
   "language": "python",
   "name": "python2"
  },
  "language_info": {
   "codemirror_mode": {
    "name": "ipython",
    "version": 2
   },
   "file_extension": ".py",
   "mimetype": "text/x-python",
   "name": "python",
   "nbconvert_exporter": "python",
   "pygments_lexer": "ipython2",
   "version": "2.7.13"
  }
 },
 "nbformat": 4,
 "nbformat_minor": 0
}
